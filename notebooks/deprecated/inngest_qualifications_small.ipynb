{
 "cells": [
  {
   "cell_type": "code",
   "execution_count": 36,
   "metadata": {
    "collapsed": true
   },
   "outputs": [],
   "source": [
    "%matplotlib inline \n",
    "\n",
    "import pandas as pd\n",
    "import numpy as np\n",
    "import gensim\n",
    "\n",
    "from pathlib import Path\n",
    "\n"
   ]
  },
  {
   "cell_type": "code",
   "execution_count": null,
   "metadata": {},
   "outputs": [],
   "source": []
  },
  {
   "cell_type": "code",
   "execution_count": 37,
   "metadata": {},
   "outputs": [
    {
     "data": {
      "text/plain": [
       "WindowsPath('d:/project/ai_job_autopilot/gitlab')"
      ]
     },
     "execution_count": 37,
     "metadata": {},
     "output_type": "execute_result"
    }
   ],
   "source": [
    "parent_folder_path = Path().cwd().parent\n",
    "parent_folder_path"
   ]
  },
  {
   "cell_type": "code",
   "execution_count": 38,
   "metadata": {},
   "outputs": [],
   "source": [
    "qual_path = parent_folder_path / 'original_data' / 'qualifications.json'"
   ]
  },
  {
   "cell_type": "code",
   "execution_count": 39,
   "metadata": {
    "collapsed": false
   },
   "outputs": [],
   "source": [
    "data = pd.read_json(qual_path)\n",
    "data = data[['title', 'skills']]"
   ]
  },
  {
   "cell_type": "code",
   "execution_count": 40,
   "metadata": {
    "collapsed": false
   },
   "outputs": [],
   "source": [
    "data['remove'] = data.skills.apply(lambda t: False if len(t) > 0 else True)\n",
    "data = data[data.remove == False]"
   ]
  },
  {
   "cell_type": "code",
   "execution_count": 41,
   "metadata": {
    "collapsed": false
   },
   "outputs": [],
   "source": [
    "sentences = data.skills.tolist()\n",
    "sentences_2 = [ sum([t.split('/') for t in s], []) for s in sentences ]\n",
    "sentences_3 = [ sum([t.split('-') for t in s], []) for s in sentences_2 ]\n",
    "\n",
    "def normalize_skill(s):\n",
    "    s = s.lower()\n",
    "    s = s.replace('.js', '')\n",
    "    s = s.replace('\"', '')\n",
    "    return s\n",
    "\n",
    "sentences_4 = [ [normalize_skill(t) for t in s] for s in sentences_3 ]\n",
    "\n",
    "\n",
    "\n",
    "sentences = sentences_4"
   ]
  },
  {
   "cell_type": "code",
   "execution_count": 42,
   "metadata": {},
   "outputs": [
    {
     "name": "stdout",
     "output_type": "stream",
     "text": [
      "['itil', 'service delivery', 'service improvement', 'sfia', 'service manager', 'project management', 'stakeholder management', 'business improvement', 'mob', 'online services', 'internet services', 'skills frameworks for the information age', 'broadcast media technology']\n"
     ]
    }
   ],
   "source": [
    "print(sentences[np.random.randint(0,len(sentences))])"
   ]
  },
  {
   "cell_type": "code",
   "execution_count": 43,
   "metadata": {},
   "outputs": [
    {
     "data": {
      "text/plain": [
       "452"
      ]
     },
     "execution_count": 43,
     "metadata": {},
     "output_type": "execute_result"
    }
   ],
   "source": [
    "len(sentences)"
   ]
  },
  {
   "cell_type": "code",
   "execution_count": 44,
   "metadata": {},
   "outputs": [],
   "source": [
    "df_sentences = pd.DataFrame(sentences)\n",
    "df_sentences.to_csv(parent_folder_path / 'prep_data' / 'prep_sentences.csv', mode='a', header=False)"
   ]
  },
  {
   "cell_type": "code",
   "execution_count": null,
   "metadata": {
    "collapsed": true
   },
   "outputs": [],
   "source": []
  }
 ],
 "metadata": {
  "kernelspec": {
   "display_name": "jobauto",
   "language": "python",
   "name": "python3"
  },
  "language_info": {
   "codemirror_mode": {
    "name": "ipython",
    "version": 3
   },
   "file_extension": ".py",
   "mimetype": "text/x-python",
   "name": "python",
   "nbconvert_exporter": "python",
   "pygments_lexer": "ipython3",
   "version": "3.11.3"
  }
 },
 "nbformat": 4,
 "nbformat_minor": 2
}
