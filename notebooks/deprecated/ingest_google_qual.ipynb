{
 "cells": [
  {
   "cell_type": "code",
   "execution_count": 98,
   "metadata": {
    "collapsed": true
   },
   "outputs": [],
   "source": [
    "%matplotlib inline \n",
    "\n",
    "import pandas as pd\n",
    "import numpy as np\n",
    "import gensim\n",
    "from pathlib import Path\n",
    "\n"
   ]
  },
  {
   "cell_type": "code",
   "execution_count": null,
   "metadata": {},
   "outputs": [],
   "source": []
  },
  {
   "cell_type": "code",
   "execution_count": 99,
   "metadata": {},
   "outputs": [
    {
     "data": {
      "text/plain": [
       "WindowsPath('d:/project/ai_job_autopilot/gitlab')"
      ]
     },
     "execution_count": 99,
     "metadata": {},
     "output_type": "execute_result"
    }
   ],
   "source": [
    "parent_folder_path = Path().cwd().parent\n",
    "parent_folder_path"
   ]
  },
  {
   "cell_type": "code",
   "execution_count": 100,
   "metadata": {},
   "outputs": [],
   "source": [
    "qual_path = parent_folder_path / 'original_data' / 'google_job_skills.csv'"
   ]
  },
  {
   "cell_type": "code",
   "execution_count": 101,
   "metadata": {
    "collapsed": false
   },
   "outputs": [],
   "source": [
    "data = pd.read_csv(qual_path)"
   ]
  },
  {
   "cell_type": "code",
   "execution_count": 102,
   "metadata": {},
   "outputs": [
    {
     "data": {
      "text/html": [
       "<div>\n",
       "<style scoped>\n",
       "    .dataframe tbody tr th:only-of-type {\n",
       "        vertical-align: middle;\n",
       "    }\n",
       "\n",
       "    .dataframe tbody tr th {\n",
       "        vertical-align: top;\n",
       "    }\n",
       "\n",
       "    .dataframe thead th {\n",
       "        text-align: right;\n",
       "    }\n",
       "</style>\n",
       "<table border=\"1\" class=\"dataframe\">\n",
       "  <thead>\n",
       "    <tr style=\"text-align: right;\">\n",
       "      <th></th>\n",
       "      <th>Company</th>\n",
       "      <th>Title</th>\n",
       "      <th>Category</th>\n",
       "      <th>Location</th>\n",
       "      <th>Responsibilities</th>\n",
       "      <th>Minimum Qualifications</th>\n",
       "      <th>Preferred Qualifications</th>\n",
       "    </tr>\n",
       "  </thead>\n",
       "  <tbody>\n",
       "    <tr>\n",
       "      <th>0</th>\n",
       "      <td>Google</td>\n",
       "      <td>Google Cloud Program Manager</td>\n",
       "      <td>Program Management</td>\n",
       "      <td>Singapore</td>\n",
       "      <td>Shape, shepherd, ship, and show technical prog...</td>\n",
       "      <td>BA/BS degree or equivalent practical experienc...</td>\n",
       "      <td>Experience in the business technology market a...</td>\n",
       "    </tr>\n",
       "    <tr>\n",
       "      <th>1</th>\n",
       "      <td>Google</td>\n",
       "      <td>Supplier Development Engineer (SDE), Cable/Con...</td>\n",
       "      <td>Manufacturing &amp; Supply Chain</td>\n",
       "      <td>Shanghai, China</td>\n",
       "      <td>Drive cross-functional activities in the suppl...</td>\n",
       "      <td>BS degree in an Engineering discipline or equi...</td>\n",
       "      <td>BSEE, BSME or BSIE degree.\\nExperience of usin...</td>\n",
       "    </tr>\n",
       "  </tbody>\n",
       "</table>\n",
       "</div>"
      ],
      "text/plain": [
       "  Company                                              Title   \n",
       "0  Google                       Google Cloud Program Manager  \\\n",
       "1  Google  Supplier Development Engineer (SDE), Cable/Con...   \n",
       "\n",
       "                       Category         Location   \n",
       "0            Program Management        Singapore  \\\n",
       "1  Manufacturing & Supply Chain  Shanghai, China   \n",
       "\n",
       "                                    Responsibilities   \n",
       "0  Shape, shepherd, ship, and show technical prog...  \\\n",
       "1  Drive cross-functional activities in the suppl...   \n",
       "\n",
       "                              Minimum Qualifications   \n",
       "0  BA/BS degree or equivalent practical experienc...  \\\n",
       "1  BS degree in an Engineering discipline or equi...   \n",
       "\n",
       "                            Preferred Qualifications  \n",
       "0  Experience in the business technology market a...  \n",
       "1  BSEE, BSME or BSIE degree.\\nExperience of usin...  "
      ]
     },
     "execution_count": 102,
     "metadata": {},
     "output_type": "execute_result"
    }
   ],
   "source": [
    "data.head(2)"
   ]
  },
  {
   "cell_type": "code",
   "execution_count": 103,
   "metadata": {},
   "outputs": [],
   "source": [
    "cols = ['Title', 'Category', 'Responsibilities', 'Minimum Qualifications',\t'Preferred Qualifications']\n",
    "df_sentences = data[cols].apply(lambda row: ' '.join(row.values.astype(str)), axis=1)\n"
   ]
  },
  {
   "cell_type": "code",
   "execution_count": null,
   "metadata": {},
   "outputs": [],
   "source": []
  },
  {
   "cell_type": "code",
   "execution_count": 104,
   "metadata": {},
   "outputs": [
    {
     "data": {
      "text/plain": [
       "'Google Cloud Program Manager Program Management Shape, shepherd, ship, and show technical programs designed to support the work of Cloud Customer Engineers and Solutions Architects.\\nMeasure and report on key metrics tied to those programs to identify any need to change course, cancel, or scale the programs from a regional to global platform.\\nCommunicate status and identify any obstacles and paths for resolution to stakeholders, including those in senior roles, in a transparent, regular, professional and timely manner.\\nEstablish expectations and rationale on deliverables for stakeholders and program contributors.\\nProvide program performance feedback to teams in Product, Engineering, Sales, and Marketing (among others) to enable efficient cross-team operations. BA/BS degree or equivalent practical experience.\\n3 years of experience in program and/or project management in cloud computing, enterprise software and/or marketing technologies. Experience in the business technology market as a program manager in SaaS, cloud computing, and/or emerging technologies.\\nSignificant cross-functional experience across engineering, sales, and marketing teams in cloud computing or related technical fields.\\nProven successful program outcomes from idea to launch in multiple contexts throughout your career.\\nAbility to manage the expectations, demands and priorities of multiple internal stakeholders based on overarching vision and success for global team health.\\nAbility to work under pressure and possess flexibility with changing needs and direction in a rapidly-growing organization.\\nStrong organization and communication skills.'"
      ]
     },
     "execution_count": 104,
     "metadata": {},
     "output_type": "execute_result"
    }
   ],
   "source": [
    "df_sentences[0]"
   ]
  },
  {
   "cell_type": "code",
   "execution_count": 105,
   "metadata": {},
   "outputs": [],
   "source": [
    "tokens = [list(gensim.utils.tokenize(doc, lower=True)) for doc in df_sentences]"
   ]
  },
  {
   "cell_type": "code",
   "execution_count": 106,
   "metadata": {},
   "outputs": [],
   "source": [
    "from gensim.parsing.preprocessing import preprocess_string, remove_stopwords, stem_text\n",
    "CUSTOM_FILTERS = [remove_stopwords]\n",
    "tokens = [preprocess_string(\" \".join(doc), CUSTOM_FILTERS) for doc in tokens]\n",
    "tokens = [[token for token in doc if not token.isnumeric()] for doc in tokens]\n",
    "tokens = [[token for token in doc if len(token) > 1] for doc in tokens]\n"
   ]
  },
  {
   "cell_type": "code",
   "execution_count": 107,
   "metadata": {},
   "outputs": [
    {
     "data": {
      "text/plain": [
       "['google',\n",
       " 'cloud',\n",
       " 'program',\n",
       " 'manager',\n",
       " 'program',\n",
       " 'management',\n",
       " 'shape',\n",
       " 'shepherd',\n",
       " 'ship',\n",
       " 'technical',\n",
       " 'programs',\n",
       " 'designed',\n",
       " 'support',\n",
       " 'work',\n",
       " 'cloud',\n",
       " 'customer',\n",
       " 'engineers',\n",
       " 'solutions',\n",
       " 'architects',\n",
       " 'measure',\n",
       " 'report',\n",
       " 'key',\n",
       " 'metrics',\n",
       " 'tied',\n",
       " 'programs',\n",
       " 'identify',\n",
       " 'need',\n",
       " 'change',\n",
       " 'course',\n",
       " 'cancel',\n",
       " 'scale',\n",
       " 'programs',\n",
       " 'regional',\n",
       " 'global',\n",
       " 'platform',\n",
       " 'communicate',\n",
       " 'status',\n",
       " 'identify',\n",
       " 'obstacles',\n",
       " 'paths',\n",
       " 'resolution',\n",
       " 'stakeholders',\n",
       " 'including',\n",
       " 'senior',\n",
       " 'roles',\n",
       " 'transparent',\n",
       " 'regular',\n",
       " 'professional',\n",
       " 'timely',\n",
       " 'manner',\n",
       " 'establish',\n",
       " 'expectations',\n",
       " 'rationale',\n",
       " 'deliverables',\n",
       " 'stakeholders',\n",
       " 'program',\n",
       " 'contributors',\n",
       " 'provide',\n",
       " 'program',\n",
       " 'performance',\n",
       " 'feedback',\n",
       " 'teams',\n",
       " 'product',\n",
       " 'engineering',\n",
       " 'sales',\n",
       " 'marketing',\n",
       " 'enable',\n",
       " 'efficient',\n",
       " 'cross',\n",
       " 'team',\n",
       " 'operations',\n",
       " 'ba',\n",
       " 'bs',\n",
       " 'degree',\n",
       " 'equivalent',\n",
       " 'practical',\n",
       " 'experience',\n",
       " 'years',\n",
       " 'experience',\n",
       " 'program',\n",
       " 'project',\n",
       " 'management',\n",
       " 'cloud',\n",
       " 'computing',\n",
       " 'enterprise',\n",
       " 'software',\n",
       " 'marketing',\n",
       " 'technologies',\n",
       " 'experience',\n",
       " 'business',\n",
       " 'technology',\n",
       " 'market',\n",
       " 'program',\n",
       " 'manager',\n",
       " 'saas',\n",
       " 'cloud',\n",
       " 'computing',\n",
       " 'emerging',\n",
       " 'technologies',\n",
       " 'significant',\n",
       " 'cross',\n",
       " 'functional',\n",
       " 'experience',\n",
       " 'engineering',\n",
       " 'sales',\n",
       " 'marketing',\n",
       " 'teams',\n",
       " 'cloud',\n",
       " 'computing',\n",
       " 'related',\n",
       " 'technical',\n",
       " 'fields',\n",
       " 'proven',\n",
       " 'successful',\n",
       " 'program',\n",
       " 'outcomes',\n",
       " 'idea',\n",
       " 'launch',\n",
       " 'multiple',\n",
       " 'contexts',\n",
       " 'career',\n",
       " 'ability',\n",
       " 'manage',\n",
       " 'expectations',\n",
       " 'demands',\n",
       " 'priorities',\n",
       " 'multiple',\n",
       " 'internal',\n",
       " 'stakeholders',\n",
       " 'based',\n",
       " 'overarching',\n",
       " 'vision',\n",
       " 'success',\n",
       " 'global',\n",
       " 'team',\n",
       " 'health',\n",
       " 'ability',\n",
       " 'work',\n",
       " 'pressure',\n",
       " 'possess',\n",
       " 'flexibility',\n",
       " 'changing',\n",
       " 'needs',\n",
       " 'direction',\n",
       " 'rapidly',\n",
       " 'growing',\n",
       " 'organization',\n",
       " 'strong',\n",
       " 'organization',\n",
       " 'communication',\n",
       " 'skills']"
      ]
     },
     "execution_count": 107,
     "metadata": {},
     "output_type": "execute_result"
    }
   ],
   "source": [
    "tokens[0]"
   ]
  },
  {
   "cell_type": "code",
   "execution_count": 108,
   "metadata": {},
   "outputs": [],
   "source": [
    "df_sentences = pd.DataFrame(tokens)\n",
    "df_sentences.to_csv(parent_folder_path / 'prep_data' / 'prep_sentences.csv', mode='a', header=False)"
   ]
  },
  {
   "cell_type": "code",
   "execution_count": null,
   "metadata": {
    "collapsed": true
   },
   "outputs": [],
   "source": []
  }
 ],
 "metadata": {
  "kernelspec": {
   "display_name": "jobauto",
   "language": "python",
   "name": "python3"
  },
  "language_info": {
   "codemirror_mode": {
    "name": "ipython",
    "version": 3
   },
   "file_extension": ".py",
   "mimetype": "text/x-python",
   "name": "python",
   "nbconvert_exporter": "python",
   "pygments_lexer": "ipython3",
   "version": "3.11.3"
  }
 },
 "nbformat": 4,
 "nbformat_minor": 2
}
