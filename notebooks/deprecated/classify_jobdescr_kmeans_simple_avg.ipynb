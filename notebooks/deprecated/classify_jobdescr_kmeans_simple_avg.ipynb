{
 "cells": [
  {
   "attachments": {},
   "cell_type": "markdown",
   "metadata": {},
   "source": [
    "IMPORTS"
   ]
  },
  {
   "cell_type": "code",
   "execution_count": 42,
   "metadata": {},
   "outputs": [
    {
     "name": "stderr",
     "output_type": "stream",
     "text": [
      "[nltk_data] Downloading package stopwords to\n",
      "[nltk_data]     C:\\Users\\slavr\\AppData\\Roaming\\nltk_data...\n",
      "[nltk_data]   Package stopwords is already up-to-date!\n",
      "[nltk_data] Downloading package punkt to\n",
      "[nltk_data]     C:\\Users\\slavr\\AppData\\Roaming\\nltk_data...\n",
      "[nltk_data]   Package punkt is already up-to-date!\n"
     ]
    }
   ],
   "source": [
    "\n",
    "import os\n",
    "from pathlib import Path\n",
    "import random\n",
    "import re\n",
    "import string\n",
    "\n",
    "import nltk\n",
    "import numpy as np\n",
    "import pandas as pd\n",
    "\n",
    "import gensim\n",
    "from gensim.test.utils import get_tmpfile\n",
    "\n",
    "\n",
    "from nltk import word_tokenize\n",
    "from nltk.corpus import stopwords\n",
    "\n",
    "from sklearn.cluster import MiniBatchKMeans\n",
    "from sklearn.metrics import silhouette_samples, silhouette_score\n",
    "\n",
    "nltk.download(\"stopwords\")\n",
    "nltk.download(\"punkt\")\n",
    "\n",
    "SEED = 42\n",
    "random.seed(SEED)\n",
    "os.environ[\"PYTHONHASHSEED\"] = str(SEED)\n",
    "np.random.seed(SEED)"
   ]
  },
  {
   "cell_type": "code",
   "execution_count": null,
   "metadata": {},
   "outputs": [],
   "source": []
  },
  {
   "attachments": {},
   "cell_type": "markdown",
   "metadata": {},
   "source": [
    "HELPER METHODS"
   ]
  },
  {
   "cell_type": "code",
   "execution_count": 43,
   "metadata": {},
   "outputs": [],
   "source": [
    "def clean_text(text, tokenizer, stopwords):\n",
    "    \"\"\"Pre-process text and generate tokens\n",
    "\n",
    "    Args:\n",
    "        text: Text to tokenize.\n",
    "\n",
    "    Returns:\n",
    "        Tokenized text.\n",
    "    \"\"\"\n",
    "    text = str(text).lower()  # Lowercase words\n",
    "    text = re.sub(r\"\\[(.*?)\\]\", \"\", text)  # Remove [+XYZ chars] in content\n",
    "    text = re.sub(r\"\\s+\", \" \", text)  # Remove multiple spaces in content\n",
    "    text = re.sub(r\"\\w+…|…\", \"\", text)  # Remove ellipsis (and last word)\n",
    "    text = re.sub(r\"(?<=\\w)-(?=\\w)\", \" \", text)  # Replace dash between words\n",
    "    text = re.sub(\n",
    "        f\"[{re.escape(string.punctuation)}]\", \"\", text\n",
    "    )  # Remove punctuation\n",
    "\n",
    "    tokens = tokenizer(text)  # Get tokens from text\n",
    "    tokens = [t for t in tokens if not t in stopwords]  # Remove stopwords\n",
    "    tokens = [\"\" if t.isdigit() else t for t in tokens]  # Remove digits\n",
    "    tokens = [t for t in tokens if len(t) > 1]  # Remove short tokens\n",
    "    return tokens\n"
   ]
  },
  {
   "cell_type": "code",
   "execution_count": 45,
   "metadata": {},
   "outputs": [],
   "source": [
    "def mbkmeans_clusters(\n",
    "\tX, \n",
    "    k, \n",
    "    mb, \n",
    "    print_silhouette_values, \n",
    "):\n",
    "    \"\"\"Generate clusters and print Silhouette metrics using MBKmeans\n",
    "\n",
    "    Args:\n",
    "        X: Matrix of features.\n",
    "        k: Number of clusters.\n",
    "        mb: Size of mini-batches.\n",
    "        print_silhouette_values: Print silhouette values per cluster.\n",
    "\n",
    "    Returns:\n",
    "        Trained clustering model and labels based on X.\n",
    "    \"\"\"\n",
    "    km = MiniBatchKMeans(n_clusters=k, batch_size=mb).fit(X)\n",
    "    print(f\"For n_clusters = {k}\")\n",
    "    print(f\"Silhouette coefficient: {silhouette_score(X, km.labels_):0.2f}\")\n",
    "    print(f\"Inertia:{km.inertia_}\")\n",
    "\n",
    "    if print_silhouette_values:\n",
    "        sample_silhouette_values = silhouette_samples(X, km.labels_)\n",
    "        print(f\"Silhouette values:\")\n",
    "        silhouette_values = []\n",
    "        for i in range(k):\n",
    "            cluster_silhouette_values = sample_silhouette_values[km.labels_ == i]\n",
    "            silhouette_values.append(\n",
    "                (\n",
    "                    i,\n",
    "                    cluster_silhouette_values.shape[0],\n",
    "                    cluster_silhouette_values.mean(),\n",
    "                    cluster_silhouette_values.min(),\n",
    "                    cluster_silhouette_values.max(),\n",
    "                )\n",
    "            )\n",
    "        silhouette_values = sorted(\n",
    "            silhouette_values, key=lambda tup: tup[2], reverse=True\n",
    "        )\n",
    "        for s in silhouette_values:\n",
    "            print(\n",
    "                f\"    Cluster {s[0]}: Size:{s[1]} | Avg:{s[2]:.2f} | Min:{s[3]:.2f} | Max: {s[4]:.2f}\"\n",
    "            )\n",
    "    return km, km.labels_"
   ]
  },
  {
   "attachments": {},
   "cell_type": "markdown",
   "metadata": {},
   "source": [
    "DATA NGESTION"
   ]
  },
  {
   "cell_type": "code",
   "execution_count": 46,
   "metadata": {},
   "outputs": [
    {
     "data": {
      "text/plain": [
       "WindowsPath('d:/project/ai_job_autopilot/gitlab')"
      ]
     },
     "execution_count": 46,
     "metadata": {},
     "output_type": "execute_result"
    }
   ],
   "source": [
    "parent_folder_path = Path().cwd().parent\n",
    "parent_folder_path"
   ]
  },
  {
   "cell_type": "code",
   "execution_count": null,
   "metadata": {},
   "outputs": [],
   "source": []
  },
  {
   "cell_type": "code",
   "execution_count": 47,
   "metadata": {},
   "outputs": [
    {
     "data": {
      "text/plain": [
       "WindowsPath('d:/project/ai_job_autopilot/gitlab/original_data/jd1.json')"
      ]
     },
     "execution_count": 47,
     "metadata": {},
     "output_type": "execute_result"
    }
   ],
   "source": [
    "job_descr_path = parent_folder_path / 'original_data/jd1.json'\n",
    "\n",
    "job_descr_path"
   ]
  },
  {
   "cell_type": "code",
   "execution_count": 48,
   "metadata": {},
   "outputs": [],
   "source": [
    "df = pd.read_json(job_descr_path)"
   ]
  },
  {
   "cell_type": "code",
   "execution_count": 49,
   "metadata": {},
   "outputs": [
    {
     "name": "stdout",
     "output_type": "stream",
     "text": [
      "We would like to present to you a new job opportunity and I think you may find it interesting.\n",
      "\n",
      "If you are interested kindly send the following documents to by Thursday, April 06 at 01:00 PM EST if that interests you and matches your profile.\n",
      "\n",
      "Without mandatory documents, we cannot submit a candidate.\n",
      "• Updated Resume in word format (Mandatory)\n",
      "• Skills Matrix and References (Mandatory)\n",
      "• Expected hourly rate (Mandatory)\n",
      "\n",
      "Job Title: RQ05180 - DevOPS/Cloud Engineer - Senior\n",
      "\n",
      "Client: Ministry of Health\n",
      "\n",
      "Work Location: 5700 Yonge Street, Toronto, Ontario, Hybrid\n",
      "\n",
      "Estimated Start Date: 2023-06-02\n",
      "\n",
      "Estimated End Date: 2024-03-29\n",
      "\n",
      "#Business Days: 207.00\n",
      "\n",
      "Extension: Probable after the initial mandate\n",
      "\n",
      "Hours per day or Week: 7.25 hours per day\n",
      "\n",
      "Security Level: CRJMC\n",
      "\n",
      "If you are interested to learn more about this opportunity or ifnot, please feel free to send over any names or forward this email to anyone who may be interested. Please check it out on our career site.\n",
      "\n",
      "(Click above for Skill... matrix and for more details)\n",
      "\n",
      "Must haves:\n",
      "• AWS technologies\n",
      "• Knowledge of Salesforce solution and MuleSoft API integration\n",
      "• Devops & CI/DC applications\n",
      "\n",
      "Description:\n",
      "• Provide expertise in AWS cloud platform.\n",
      "• Provide design, build and support for cloud environments to create solutions for Public Health domain.\n",
      "• Provide expertise on Linux operating system like Red-Hat including installation, troubleshooting, hardening and scripting to automate.\n",
      "• The role will monitor and assess the performance of applications in a cloud environment to ensure solutions are available\n",
      "• Participate to create, test and implement safeguards to maintain data integrity and protect against unauthorized access\n",
      "• Regularly review production logs, providing analysis & suggestions to implement measures in a proactive manner\n",
      "• Hands-on experience with microservices and distributed application architecture, such as containers, Kubernetes, and/or serverless technology\n",
      "• Provide detailed documentation for system design, integration, configuration, development and implementation of related activities\n",
      "• Develop and maintain system design models, technical documentation and specifications\n",
      "• Produce integration plans, inputs into configuration and development project.\n",
      "\n",
      "Experience And Skill Set Requirements\n",
      "\n",
      "Technical Skills – 50 points\n",
      "\n",
      "10+ years of experience in IT field:\n",
      "• Creation, management, and maintenance of AWS & related cloud-based production system.\n",
      "• Deployment and automation of packages forcloud-based system\n",
      "• Ensuring availability, performance, security, and scalability of AWS & related production systems.\n",
      "• Excellent knowledge in managing AWS resources and configuring Amazon VPC, AWS Firewall, Amazon Elastic Load Balancing, auto-scaling, AWS IAM, Amazon EC2, Amazon S3, Amazon API Gateway, AWS Lambda, Amazon Aurora DB, Amazon Redshift, Active MQ, AWS CloudTrail, AWS CloudWatch, and other services in the AWS family.\n",
      "• Knowledge of the following Amazon Web Services (AWS) technologies – Amazon Connect, Amazon Pinpoint, Amazon DynamoDB, Amazon Kinesis Data Streams and Amazon Polly\n",
      "• 5+ years working experience of Unix/Linux operating systems like Solaris and Red-Hat including installation, troubleshooting, hardening and scripting to automate\n",
      "• 3+ years with administration of Kubernetes and Docker container solutions\n",
      "• Proven implementation of cloud security models, particularly identity, network, and encryption\n",
      "• Knowledge of Gitlab or other DevOps tools and CI/CD integration\n",
      "• Knowledge of Salesforce solution and MuleSoft API integration\n",
      "• Provision of critical system security by leveraging best practices and prolific cloud security solutions.\n",
      "\n",
      "Core Skills And Experience - 30 Points\n",
      "\n",
      "10+ years of experience with:\n",
      "• Production environment troubleshooting and tuning to improve application performance\n",
      "• Developing and maintaining system design models, technical documentation and specifications\n",
      "• Experience setting up development environments and mechanism using tools such as JIRA, Confluence, Maven and Jenkins or similar tools\n",
      "• Experience in scripting languages like Python, Bash, PHP, Java, JavaScript, Node, etc.\n",
      "• Experience in build tools like Git, Ansible, Chef, Puppet etc. for continuous integration\n",
      "• Knowledge of container-based virtualization technology like Docker\n",
      "• Integration experience in building and using APIs\n",
      "• Experience applying industry web, architectural and security standards and best practices\n",
      "• Experience in mobile device management for various versions of cellular and tablets\n",
      "• Providing recommendations for architecture and process improvements.\n",
      "• Definition and deployment of systems for metrics, logging, and monitoring on AWS and related platform.\n",
      "• Designing, maintenance and management of tools for automation of different operational processes.\n",
      "• Evaluation of new technology alternatives and vendor products.\n",
      "\n",
      "Public Sector/Healthcare Experience - 5 Points\n",
      "• 5+ years of experience working with federal/provincial/broader public-sector healthcare providers\n",
      "• Knowledge of Public Sector Enterprise Architecture artifacts (or similar), processes and practices, and ability to produce technical documentation that comply with industry standard practices\n",
      "• In-depth knowledge of industry standard such as Project Management Institute (PMI) and Public Sector I&IT project management methodologies.\n",
      "• Knowledge and experience with Public Sector Health related projects\n",
      "• Knowledge and understanding of Ministry policy and IT project approval processes and requirements\n",
      "• Experience adopting and adhering to Public Sector Unified I&IT Project Methodology, Public Sector Enterprise Architecture and Public Sector Gating process, and Public Sector Standard Systems Development Methodologies\n",
      "• Experience with large complex IT Health-related projects.\n",
      "\n",
      "General Skills - 15 Points\n",
      "• Proven technical leadership skills with ability to identify areas for improvement, and recommend solutions\n",
      "• Exceptional analytical, problem solving and decision-making skills\n",
      "• Demonstrated strong interpersonal, verbal and written communication, and presentation skills\n",
      "• Proven troubleshooting and critical thinking experience\n",
      "• Demonstrated ability to apply strong listening skills to facilitate issue resolution\n",
      "• Effective consulting skills to engage with all stakeholders with proven track record for building strong working relationships\n",
      "• Strong interpersonal, facilitation and negotiation skills with ability to build rapport with stakeholders and drive negotiations to a successful outcome\n",
      "• Excellent customer service skills, including tact and diplomacy to ensure client needs are managed effectively\n",
      "• A motivated, flexible, detail-oriented and creative team player with perseverance, excellent organization and multi-tasking abilities, and a proven track record for meeting strict deadlines.\n",
      "\n",
      "Powered by JazzHR\n",
      "\n",
      "L1MPqU904c\n"
     ]
    }
   ],
   "source": [
    "print(df['description'][1])"
   ]
  },
  {
   "attachments": {},
   "cell_type": "markdown",
   "metadata": {},
   "source": [
    "Tokenize"
   ]
  },
  {
   "cell_type": "code",
   "execution_count": 50,
   "metadata": {},
   "outputs": [],
   "source": [
    "custom_stopwords = set(stopwords.words(\"english\") + [\"job\", \"title\", \"qualifications\", \"requirements\"])\n",
    "\n",
    "df[\"tokens\"] = df[\"description\"].map(lambda x: clean_text(x, word_tokenize, custom_stopwords))\n",
    "tokenized_docs = df[\"tokens\"].values\n",
    " \n"
   ]
  },
  {
   "cell_type": "code",
   "execution_count": null,
   "metadata": {},
   "outputs": [],
   "source": []
  },
  {
   "attachments": {},
   "cell_type": "markdown",
   "metadata": {},
   "source": [
    "Load model and vectorize"
   ]
  },
  {
   "cell_type": "code",
   "execution_count": 51,
   "metadata": {},
   "outputs": [],
   "source": [
    "fname = get_tmpfile(parent_folder_path / 'prep_data' / 'models' / \"word2vec.model\")\n",
    "model = gensim.models.FastText.load(fname)\n"
   ]
  },
  {
   "cell_type": "code",
   "execution_count": 52,
   "metadata": {},
   "outputs": [
    {
     "data": {
      "text/plain": [
       "(1208, 200)"
      ]
     },
     "execution_count": 52,
     "metadata": {},
     "output_type": "execute_result"
    }
   ],
   "source": [
    "vectorized_docs = vectorize(tokenized_docs, model=model)\n",
    "len(vectorized_docs), len(vectorized_docs[0])"
   ]
  },
  {
   "cell_type": "code",
   "execution_count": 53,
   "metadata": {},
   "outputs": [
    {
     "data": {
      "text/plain": [
       "[('give', 0.8144811391830444),\n",
       " ('interactions', 0.8008865118026733),\n",
       " ('initiation', 0.793384313583374),\n",
       " ('acumen', 0.7828260660171509),\n",
       " ('sharing', 0.7811826467514038),\n",
       " ('assertive', 0.7791082859039307),\n",
       " ('ve', 0.7785332202911377),\n",
       " ('qe', 0.775906503200531),\n",
       " ('principles', 0.7741429209709167),\n",
       " ('ex', 0.772027850151062)]"
      ]
     },
     "execution_count": 53,
     "metadata": {},
     "output_type": "execute_result"
    }
   ],
   "source": [
    "\n",
    "ret_vals = model.wv.similar_by_vector(vectorized_docs[1])\n",
    "ret_vals"
   ]
  },
  {
   "cell_type": "code",
   "execution_count": 54,
   "metadata": {},
   "outputs": [
    {
     "name": "stderr",
     "output_type": "stream",
     "text": [
      "c:\\Users\\slavr\\anaconda3\\envs\\jobauto\\Lib\\site-packages\\sklearn\\cluster\\_kmeans.py:870: FutureWarning: The default value of `n_init` will change from 3 to 'auto' in 1.4. Set the value of `n_init` explicitly to suppress the warning\n",
      "  warnings.warn(\n"
     ]
    },
    {
     "name": "stdout",
     "output_type": "stream",
     "text": [
      "For n_clusters = 50\n",
      "Silhouette coefficient: 0.15\n",
      "Inertia:117.9930543711749\n",
      "Silhouette values:\n",
      "    Cluster 6: Size:9 | Avg:1.00 | Min:1.00 | Max: 1.00\n",
      "    Cluster 12: Size:7 | Avg:1.00 | Min:1.00 | Max: 1.00\n",
      "    Cluster 17: Size:9 | Avg:1.00 | Min:1.00 | Max: 1.00\n",
      "    Cluster 23: Size:7 | Avg:1.00 | Min:1.00 | Max: 1.00\n",
      "    Cluster 25: Size:9 | Avg:1.00 | Min:1.00 | Max: 1.00\n",
      "    Cluster 29: Size:2 | Avg:1.00 | Min:1.00 | Max: 1.00\n",
      "    Cluster 36: Size:2 | Avg:1.00 | Min:1.00 | Max: 1.00\n",
      "    Cluster 40: Size:2 | Avg:1.00 | Min:1.00 | Max: 1.00\n",
      "    Cluster 44: Size:3 | Avg:1.00 | Min:1.00 | Max: 1.00\n",
      "    Cluster 47: Size:2 | Avg:1.00 | Min:1.00 | Max: 1.00\n",
      "    Cluster 48: Size:9 | Avg:1.00 | Min:1.00 | Max: 1.00\n",
      "    Cluster 49: Size:2 | Avg:1.00 | Min:1.00 | Max: 1.00\n",
      "    Cluster 14: Size:14 | Avg:1.00 | Min:1.00 | Max: 1.00\n",
      "    Cluster 27: Size:7 | Avg:1.00 | Min:1.00 | Max: 1.00\n",
      "    Cluster 34: Size:7 | Avg:1.00 | Min:1.00 | Max: 1.00\n",
      "    Cluster 4: Size:9 | Avg:1.00 | Min:1.00 | Max: 1.00\n",
      "    Cluster 11: Size:11 | Avg:1.00 | Min:1.00 | Max: 1.00\n",
      "    Cluster 35: Size:10 | Avg:0.94 | Min:0.90 | Max: 0.96\n",
      "    Cluster 32: Size:9 | Avg:0.70 | Min:0.34 | Max: 0.80\n",
      "    Cluster 42: Size:11 | Avg:0.62 | Min:0.01 | Max: 0.74\n",
      "    Cluster 22: Size:9 | Avg:0.59 | Min:0.21 | Max: 0.70\n",
      "    Cluster 37: Size:9 | Avg:0.58 | Min:0.13 | Max: 0.71\n",
      "    Cluster 33: Size:5 | Avg:0.57 | Min:0.15 | Max: 0.67\n",
      "    Cluster 3: Size:4 | Avg:0.47 | Min:0.32 | Max: 0.61\n",
      "    Cluster 26: Size:19 | Avg:0.34 | Min:0.03 | Max: 0.41\n",
      "    Cluster 30: Size:4 | Avg:0.34 | Min:0.33 | Max: 0.34\n",
      "    Cluster 20: Size:8 | Avg:0.26 | Min:0.22 | Max: 0.29\n",
      "    Cluster 15: Size:29 | Avg:0.25 | Min:-0.02 | Max: 0.30\n",
      "    Cluster 16: Size:33 | Avg:0.23 | Min:0.01 | Max: 0.41\n",
      "    Cluster 45: Size:7 | Avg:0.20 | Min:0.12 | Max: 0.30\n",
      "    Cluster 10: Size:14 | Avg:0.07 | Min:-0.06 | Max: 0.21\n",
      "    Cluster 24: Size:17 | Avg:0.06 | Min:-0.01 | Max: 0.12\n",
      "    Cluster 43: Size:46 | Avg:0.06 | Min:-0.04 | Max: 0.11\n",
      "    Cluster 41: Size:62 | Avg:0.04 | Min:-0.03 | Max: 0.16\n",
      "    Cluster 39: Size:22 | Avg:0.04 | Min:-0.20 | Max: 0.25\n",
      "    Cluster 5: Size:54 | Avg:0.04 | Min:-0.08 | Max: 0.16\n",
      "    Cluster 46: Size:55 | Avg:0.04 | Min:-0.04 | Max: 0.10\n",
      "    Cluster 8: Size:49 | Avg:0.03 | Min:-0.05 | Max: 0.11\n",
      "    Cluster 2: Size:46 | Avg:0.03 | Min:-0.11 | Max: 0.13\n",
      "    Cluster 28: Size:52 | Avg:0.03 | Min:-0.07 | Max: 0.11\n",
      "    Cluster 38: Size:33 | Avg:0.02 | Min:-0.20 | Max: 0.18\n",
      "    Cluster 21: Size:79 | Avg:0.02 | Min:-0.09 | Max: 0.11\n",
      "    Cluster 9: Size:51 | Avg:0.01 | Min:-0.11 | Max: 0.12\n",
      "    Cluster 18: Size:48 | Avg:0.01 | Min:-0.22 | Max: 0.12\n",
      "    Cluster 31: Size:1 | Avg:0.00 | Min:0.00 | Max: 0.00\n",
      "    Cluster 13: Size:39 | Avg:-0.00 | Min:-0.19 | Max: 0.10\n",
      "    Cluster 0: Size:56 | Avg:-0.00 | Min:-0.12 | Max: 0.09\n",
      "    Cluster 1: Size:63 | Avg:-0.00 | Min:-0.29 | Max: 0.13\n",
      "    Cluster 7: Size:102 | Avg:-0.06 | Min:-0.18 | Max: 0.07\n",
      "    Cluster 19: Size:51 | Avg:-0.07 | Min:-0.18 | Max: 0.04\n"
     ]
    }
   ],
   "source": [
    "clustering, cluster_labels = mbkmeans_clusters(\n",
    "\tX=vectorized_docs,\n",
    "    k=50,\n",
    "    mb=500,\n",
    "    print_silhouette_values=True,\n",
    ")\n",
    "df_clusters = pd.DataFrame({\n",
    "    \"text\": df['description'],\n",
    "    \"tokens\": [\" \".join(text) for text in tokenized_docs],\n",
    "    \"cluster\": cluster_labels\n",
    "})"
   ]
  },
  {
   "cell_type": "code",
   "execution_count": 55,
   "metadata": {},
   "outputs": [
    {
     "name": "stdout",
     "output_type": "stream",
     "text": [
      "Most representative terms per cluster (based on centroids):\n",
      "Cluster 0: leaders improvements ex prospect give \n",
      "Cluster 1: ex acumen improvements professionalism give \n",
      "Cluster 2: boarding ex prospect improvements leaders \n",
      "Cluster 3: de partie sous curry cuisine \n",
      "Cluster 4: boarding improvements prospect professionalism prospects \n",
      "Cluster 5: interactions boarding initiation acumen ex \n",
      "Cluster 6: ex prospect improvements track professionalism \n",
      "Cluster 7: acumen improvements units prospect ex \n",
      "Cluster 8: give assertive approach deliver sharing \n",
      "Cluster 9: give qe interactions sse initiation \n",
      "Cluster 10: give qe interactions sse initiation \n",
      "Cluster 11: prospect boarding improvements ex prospects \n",
      "Cluster 12: acumen improvements objection prospect ex \n",
      "Cluster 13: improvements ex prospect acumen prospects \n",
      "Cluster 14: units acumen initiation improvements ex \n",
      "Cluster 15: ex improvements acumen leaders boarding \n",
      "Cluster 16: ex give initiation improvements interactions \n",
      "Cluster 17: acumen units improvements ex objection \n",
      "Cluster 18: prospect boarding improvements prospects professionalism \n",
      "Cluster 19: give prospect discipline leaders deliver \n",
      "Cluster 20: analysing standardization boarding reasearch ex \n",
      "Cluster 21: improvements ex units prospect objection \n",
      "Cluster 22: acumen reasearch crisis units objection \n",
      "Cluster 23: improvements units ex track leaders \n",
      "Cluster 24: give assertive browsing deliver interactions \n",
      "Cluster 25: prospect ex professionalism confident prospects \n",
      "Cluster 26: boarding prospect improvements leaders professionalism \n",
      "Cluster 27: prospect leaders initiation acumen improvements \n",
      "Cluster 28: give interactions acumen initiation ex \n",
      "Cluster 29: ex acumen qe interactions units \n",
      "Cluster 30: browsing rich deliver psd talented \n",
      "Cluster 31: give sharing browsing experience willingness \n",
      "Cluster 32: prospect objection ex units prospects \n",
      "Cluster 33: discipline starter give confident ex \n",
      "Cluster 34: leaders boarding prospect improvements objection \n",
      "Cluster 35: improvements units initiation acumen give \n",
      "Cluster 36: give browsing interactions assertive deliver \n",
      "Cluster 37: improvements objection acumen prospect units \n",
      "Cluster 38: initiation improvements ex acumen units \n",
      "Cluster 39: leaders improvements pest sse ex \n",
      "Cluster 40: improvements ex track leaders confident \n",
      "Cluster 41: ex boarding acumen initiation interactions \n",
      "Cluster 42: prospect improvements objection ex professionalism \n",
      "Cluster 43: give interactions initiation assertive sharing \n",
      "Cluster 44: approach improvements initiation confident units \n",
      "Cluster 45: boarding developments ex leaders discipline \n",
      "Cluster 46: give interactions initiation ex assertive \n",
      "Cluster 47: data qe sse dbs relational \n",
      "Cluster 48: prospect objection improvements prospects ex \n",
      "Cluster 49: developement give initiation browsing discipline \n"
     ]
    }
   ],
   "source": [
    "print(\"Most representative terms per cluster (based on centroids):\")\n",
    "for i in range(50):\n",
    "    tokens_per_cluster = \"\"\n",
    "    most_representative = model.wv.most_similar(positive=[clustering.cluster_centers_[i]], topn=5)\n",
    "    for t in most_representative:\n",
    "        tokens_per_cluster += f\"{t[0]} \"\n",
    "    print(f\"Cluster {i}: {tokens_per_cluster}\")"
   ]
  },
  {
   "cell_type": "code",
   "execution_count": 56,
   "metadata": {},
   "outputs": [
    {
     "name": "stdout",
     "output_type": "stream",
     "text": [
      "Description\n",
      "\n",
      "The Network Administrator is responsible for design and development of secure Network system solutions. This position is expected to work on projects, which may include evolving existing systems or implementing new technology. This position is also responsible for performing analytical, technical and support work in the planning, implementation; documentation and administration of all Networking systems.\n",
      "\n",
      "The Kal Tire network is a critical technology that connects our global operations and Team Members while ensuring cyber security, reliability, and performance standards are maintained. The network is built using design principles from Zero Trust security model and CIS hardening guidelines and modern technology such as NGFW and SD-WAN.\n",
      "\n",
      "Core Responsibilities\n",
      "\n",
      "Network Administration\n",
      "• Documentation and administration of all Network Infrastructure.\n",
      "• Serves as a technical troubleshooter and coordinator on complex network issues affecting mission critical applications.\n",
      "•... Ensures that documentation of Network topology and configurations are maintained.\n",
      "• Author detailed system design documents.\n",
      "• Propose and submit solution recommendations, including costs, benefits, risks and ROI.\n",
      "\n",
      "Troubleshooting & Maintenance\n",
      "• Oversees and performs network maintenance duties.\n",
      "• Ensures network is fully optimized for application performance and high availability.\n",
      "• Proactively identify ongoing cost optimization, performance enhancement, and growth strategies.\n",
      "\n",
      "Network Security\n",
      "• Works closely with Cyber Security Architect and Technical Solutions Architect to research, design and implement security solutions, including working with managed services.\n",
      "• Defines Network segmentation, security zones and access control policies.\n",
      "\n",
      "Network Growth & Planning\n",
      "• Performs research and analysis for potential technology solutions to business needs.\n",
      "• Seeks opportunities to automate or streamline manual tasks.\n",
      "• Delivers emerging technology presentations.\n",
      "• Stays up-to-date with technical and industry developments.\n",
      "\n",
      "Other Duties and Responsibilities\n",
      "• Assists others in the performance of their duties as required.\n",
      "• Adheres to the established processes and procedures within the IS Department.\n",
      "• Establishes and maintains close working relationships with vendors and service providers.\n",
      "• Prepares and delivers informative, well-organized presentations and communications.\n",
      "• Perform other duties as assigned.\n",
      "\n",
      "Authority/Supervisory Responsibilities\n",
      "• Plans, schedules and coordinates Network Administration activities.\n",
      "• Leads medium to large Network Infrastructure lifecycle upgrade projects.\n",
      "• Plans, schedule and coordinate the tasks of others.\n",
      "\n",
      "Work Experience\n",
      "• Three or more years’ experience working as an Network Administrator for a medium to large enterprise with complex technology environments.\n",
      "• Three or more years’ of progressive experience in a Network Administrator role with knowledge of Cisco Routing and Switching devices, Cisco Wireless Access Points and Controllers, Palo Alto Firewall Appliances, Load Balancers, VOIP Telephony, Hybrid Cloud Connectivity, Microsoft Azure, SD-WAN, Network performance and monitoring tools.\n",
      "\n",
      "Knowledge, Skills and Abilities\n",
      "• Cisco Routing and Switching devices, Cisco/Meraki Wireless Access Points and Controllers, Palo Alto Firewall Appliances, Load Balancers, VOIP Telephony, Video Conferencing, Hybrid Connectivity, Microsoft Azure, SD-WAN, Network performance and monitoring tools.\n",
      "\n",
      "Education\n",
      "• Post-secondary graduate with a degree, diploma or certificate in computer science or equivalent combination of education, training and experience.\n",
      "\n",
      "Special Requirements\n",
      "• Evening and occasional weekend work may be required.\n",
      "• Ability to participate in on-call after hours support rotation.\n",
      "\n",
      "This position is based out of our Vernon office with a possibility to work remotely.\n",
      "\n",
      "About Kal Tire\n",
      "\n",
      "Kal Tire is the largest independently owned tire dealer in Canada with over 250 locations. Our business philosophy centers on exceeding our customers' expectations and relies on our entrepreneurial team members to provide exceptional customer service\n",
      "-------------\n",
      "[('ex', 0.7964507341384888), ('acumen', 0.7954562306404114), ('qe', 0.7777484655380249), ('interactions', 0.777617335319519), ('units', 0.7745217084884644)]\n",
      "Description\n",
      "\n",
      "The Network Administrator is responsible for design and development of secure Network system solutions. This position is expected to work on projects, which may include evolving existing systems or implementing new technology. This position is also responsible for performing analytical, technical and support work in the planning, implementation; documentation and administration of all Networking systems.\n",
      "\n",
      "The Kal Tire network is a critical technology that connects our global operations and Team Members while ensuring cyber security, reliability, and performance standards are maintained. The network is built using design principles from Zero Trust security model and CIS hardening guidelines and modern technology such as NGFW and SD-WAN.\n",
      "\n",
      "Core Responsibilities\n",
      "\n",
      "Network Administration\n",
      "• Documentation and administration of all Network Infrastructure.\n",
      "• Serves as a technical troubleshooter and coordinator on complex network issues affecting mission critical applications.\n",
      "•... Ensures that documentation of Network topology and configurations are maintained.\n",
      "• Author detailed system design documents.\n",
      "• Propose and submit solution recommendations, including costs, benefits, risks and ROI.\n",
      "\n",
      "Troubleshooting & Maintenance\n",
      "• Oversees and performs network maintenance duties.\n",
      "• Ensures network is fully optimized for application performance and high availability.\n",
      "• Proactively identify ongoing cost optimization, performance enhancement, and growth strategies.\n",
      "\n",
      "Network Security\n",
      "• Works closely with Cyber Security Architect and Technical Solutions Architect to research, design and implement security solutions, including working with managed services.\n",
      "• Defines Network segmentation, security zones and access control policies.\n",
      "\n",
      "Network Growth & Planning\n",
      "• Performs research and analysis for potential technology solutions to business needs.\n",
      "• Seeks opportunities to automate or streamline manual tasks.\n",
      "• Delivers emerging technology presentations.\n",
      "• Stays up-to-date with technical and industry developments.\n",
      "\n",
      "Other Duties and Responsibilities\n",
      "• Assists others in the performance of their duties as required.\n",
      "• Adheres to the established processes and procedures within the IS Department.\n",
      "• Establishes and maintains close working relationships with vendors and service providers.\n",
      "• Prepares and delivers informative, well-organized presentations and communications.\n",
      "• Perform other duties as assigned.\n",
      "\n",
      "Authority/Supervisory Responsibilities\n",
      "• Plans, schedules and coordinates Network Administration activities.\n",
      "• Leads medium to large Network Infrastructure lifecycle upgrade projects.\n",
      "• Plans, schedule and coordinate the tasks of others.\n",
      "\n",
      "Work Experience\n",
      "• Three or more years’ experience working as an Network Administrator for a medium to large enterprise with complex technology environments.\n",
      "• Three or more years’ of progressive experience in a Network Administrator role with knowledge of Cisco Routing and Switching devices, Cisco Wireless Access Points and Controllers, Palo Alto Firewall Appliances, Load Balancers, VOIP Telephony, Hybrid Cloud Connectivity, Microsoft Azure, SD-WAN, Network performance and monitoring tools.\n",
      "\n",
      "Knowledge, Skills and Abilities\n",
      "• Cisco Routing and Switching devices, Cisco/Meraki Wireless Access Points and Controllers, Palo Alto Firewall Appliances, Load Balancers, VOIP Telephony, Video Conferencing, Hybrid Connectivity, Microsoft Azure, SD-WAN, Network performance and monitoring tools.\n",
      "\n",
      "Education\n",
      "• Post-secondary graduate with a degree, diploma or certificate in computer science or equivalent combination of education, training and experience.\n",
      "\n",
      "Special Requirements\n",
      "• Evening and occasional weekend work may be required.\n",
      "• Ability to participate in on-call after hours support rotation.\n",
      "\n",
      "This position is based out of our Vernon office with a possibility to work remotely.\n",
      "\n",
      "About Kal Tire\n",
      "\n",
      "Kal Tire is the largest independently owned tire dealer in Canada with over 250 locations. Our business philosophy centers on exceeding our customers' expectations and relies on our entrepreneurial team members to provide exceptional customer service\n",
      "-------------\n",
      "[('ex', 0.7964507341384888), ('acumen', 0.7954562306404114), ('qe', 0.7777484655380249), ('interactions', 0.777617335319519), ('units', 0.7745217084884644)]\n",
      "Job Description\n",
      "\n",
      "Seeing beyond numbersº\n",
      "\n",
      "At Laurentian Bank, we believe we can change banking for the better. Founded in Montreal in 1846, Laurentian Bank helps families, businesses and communities thrive. Today, we have over 3,000 employees working together as One Team, to provide a broad range of financial services and advice-based solutions for customers across Canada and the United States. We drive results by placing our customers first, making the better choice, acting courageously, and believing everyone belongs.\n",
      "\n",
      "This role sits within LBC Tech, a subsidiary of Laurentian Bank Financial Group.\n",
      "\n",
      "The Senior Network Administrator is a key member of the Network & Infrastructure Team, and is responsible for implementation, administration, maintenance, and support of the organization's network architectures including LAN, WAN, and internet connectivity. The successful candidate will have experience and expertise in delivering a stable and available environment. This role operates... within a shared service delivery model where some services are delivered through an outsourced I.T. environment and other services are being delivered with in-house resources.\n",
      "\n",
      "Responsibilities\n",
      "• Install, configure, administer, and support hardware and software for LAN, WAN and SAN, including hubs, switches, routers, firewalls, network monitoring tools, configuration backup tools, network elements, and wiring to provide an optimized and reliable environment to run production applications and to support development environments.\n",
      "• Perform maintenance and release upgrades on a timely basis or as needed; troubleshoot and provide solutions to LAN/WAN/SAN hardware and software problems.\n",
      "• Monitor network performance and capacity in the areas of response, throughput, and availability.\n",
      "• Perform analysis of LAN, WAN and SAN requirements, and contribute to design of LAN, WAN and SAN architecture, integration, and installation.\n",
      "• Assist with the completion, documentation and reporting of network sniffing and traces as necessary.\n",
      "• Prepare and maintain documentation of monitoring alert systems, all LAN, WAN, SAN and Internet connections, all network and network security equipment and configurations.\n",
      "• Install, configure, and administer hardware and software systems that provide appropriate network security functionality as part of BAU or project work.\n",
      "• Perform SAN switch administration tasks, which include monitoring, performance optimization, maintenance, and production support for switches.\n",
      "• Research, evaluate, design, test, recommend, and plan implementation of new or improved network hardware/software/devices.\n",
      "• Assist in maintaining and testing business continuity/disaster recovery plans, processes, and procedures necessary to recover services in the event of a declared disaster.\n",
      "• Provides level 3 support for the network environment.\n",
      "\n",
      "Qualifications\n",
      "• University Degree in Computer Science or a related field and 9 plus years of work experience\n",
      "• Minimum 5 years experience supporting a large scale, mission critical enterprise in a 24x7 operating environment.\n",
      "• Cisco certification in any of the following: CCDE, CCIE Routing and Switching, CCIE Collaboration, CCIE Security.\n",
      "• Excellent knowledge of and hands-on working experience with current operating systems (Windows, UNIX, AIX and Linux), and Cisco switches and routers, current network applications, all network layers, routing, switching and related protocols (TCP/IP, SMTP, HTTP, SFTP, FTP, SSH, TELNET, DNS, DHCP, RIP, EIGRP, BGP, OSPF, SNMP, 802.1X and RMON etc.).\n",
      "• Experience with complex TCP/IP networks which include multiple routing protocols and knowledge of BGP, OPSF and CWDM/DWDM technologies.\n",
      "• Excellent knowledge of network fault isolation tools and protocols (sniffer traces, SNMP, etc.).\n",
      "• Experience with networking hardware and cabling technologies.\n",
      "• Experience working within Incident, Change and Problem Management processes.\n",
      "• Hands-on skill and technical proficiency in router and switch configuration, network topologies, applicable software, problem determination, and troubleshooting techniques\n",
      "• Advanced knowledge of network tools used in supporting multiplatform environments, troubleshooting network-related problems, monitoring LAN/WAN/SAN capacity, performance, security and availability\n",
      "• Advanced knowledge of network provider/carrier services, network engineering (hardware and software), network design and planning\n",
      "• Experience applying ITIL best practices is an asset.\n",
      "• Strong problem solver and team player who is confident and challenged in a fast-paced environment supporting a wide range of technologies.\n",
      "• Proactive and results-oriented with good time management skills, and the ability to work well under pressure and focus on multiple priorities concurrently.\n",
      "• Excellent verbal and written communication, and documentation skills.\n",
      "• Bilingualism (English/French) communication skills are an asset.\n",
      "\n",
      "Other:\n",
      "• On call availability.\n",
      "• After hours and weekend implementations management and coordination.\n",
      "\n",
      "Additional Information\n",
      "\n",
      "Equity, Diversity & Inclusion:\n",
      "\n",
      "We are proud to be an equal opportunity employer and are committed to fostering an inclusive and accessible work environment that reflects the diversity of our customers and our communities. We welcome and encourage applications from individuals from all groups, including Indigenous people, women, visible minorities, and persons with disabilities, regardless of race, national or ethnic origin, colour, religion, age, sex, sexual orientation, gender identity or expression, marital status, family status, genetic characteristics, disability or any other legally-protected ground.\n",
      "\n",
      "Accessibility:\n",
      "\n",
      "Accommodations for persons with disabilities are available upon request for job applicants taking part in all aspects of the recruitment process.\n",
      "\n",
      "PIPEDA:\n",
      "\n",
      "We may collect, use or disclose your personal information for the purpose of establishing an employment relationship with you\n",
      "-------------\n",
      "[('ex', 0.7964507341384888), ('acumen', 0.7954562306404114), ('qe', 0.7777484655380249), ('interactions', 0.777617335319519), ('units', 0.7745217084884644)]\n"
     ]
    }
   ],
   "source": [
    "test_cluster = 29\n",
    "most_representative_docs = np.argsort(\n",
    "    np.linalg.norm(vectorized_docs - clustering.cluster_centers_[test_cluster], axis=1)\n",
    ")\n",
    "for d in most_representative_docs[:3]:\n",
    "    print(df['description'][d])\n",
    "    print(\"-------------\")\n",
    "    most_representative = model.wv.most_similar(positive=[clustering.cluster_centers_[test_cluster]], topn=5)\n",
    "    print(most_representative)\n"
   ]
  },
  {
   "cell_type": "code",
   "execution_count": 6,
   "metadata": {},
   "outputs": [
    {
     "name": "stdout",
     "output_type": "stream",
     "text": [
      "str1\n",
      "str2....\n",
      "strN\n"
     ]
    }
   ],
   "source": [
    "string = '''str1\\nstr2....\\nstrN'''\n",
    "print(string)\n"
   ]
  },
  {
   "cell_type": "code",
   "execution_count": null,
   "metadata": {},
   "outputs": [],
   "source": []
  }
 ],
 "metadata": {
  "kernelspec": {
   "display_name": "jobauto",
   "language": "python",
   "name": "python3"
  },
  "language_info": {
   "codemirror_mode": {
    "name": "ipython",
    "version": 3
   },
   "file_extension": ".py",
   "mimetype": "text/x-python",
   "name": "python",
   "nbconvert_exporter": "python",
   "pygments_lexer": "ipython3",
   "version": "3.11.3"
  },
  "orig_nbformat": 4
 },
 "nbformat": 4,
 "nbformat_minor": 2
}
