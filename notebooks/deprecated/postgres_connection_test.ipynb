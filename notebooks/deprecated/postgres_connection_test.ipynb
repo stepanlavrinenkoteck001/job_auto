{
 "cells": [
  {
   "cell_type": "code",
   "execution_count": null,
   "metadata": {},
   "outputs": [],
   "source": []
  },
  {
   "cell_type": "code",
   "execution_count": 2,
   "metadata": {},
   "outputs": [],
   "source": [
    "\n",
    "from utils.logging_utils import create_logger\n",
    "from yaml import safe_load\n",
    "from pathlib import Path\n",
    "from ingestion.database import VectorDataBase, PostgresDatabase\n",
    "from utils.logging_utils import create_logger\n",
    "from preprocessing.spacy_prep import SpacyPrep\n",
    "from modeling_clusterization.embedding import FastTextModel\n",
    "from modeling_clusterization.gpt_models import ChatGpt, Gpt4All\n",
    "from sessions.application_session import ApplicationSession\n",
    "import os "
   ]
  },
  {
   "cell_type": "code",
   "execution_count": 4,
   "metadata": {},
   "outputs": [
    {
     "name": "stderr",
     "output_type": "stream",
     "text": [
      "[08-02 00:56:24] {training_pipeline_b_log:42} INFO - running training_pipeline_b.py\n"
     ]
    },
    {
     "name": "stdout",
     "output_type": "stream",
     "text": [
      "d:\\project\\ai_job_autopilot\\gitlab\\ai_core\\src\n"
     ]
    }
   ],
   "source": [
    "    \n",
    "parent_folder_path = Path().cwd()\n",
    "print(parent_folder_path)\n",
    "data_path = parent_folder_path / 'data' \n",
    "app_questions_data_path = data_path / 'app_questions' \n",
    "embed_model_path = app_questions_data_path / 'artifacts' / 'fasttext.model'\n",
    "fasttext_training_it_dataset_path = app_questions_data_path / 'prep_data' / 'prep_sentences_50K.csv'\n",
    "\n",
    "# with open('src/universal_config.yaml', 'r') as file:\n",
    "with open('universal_config.yaml', 'r') as file:\n",
    "\n",
    "    cf = safe_load(file)\n",
    "\n",
    "cf_db_p = cf['database']['postgres']\n",
    "cf_db_q = cf['database']['qdrant']\n",
    "\n",
    "# with open('src/training_pipeline_a_config.yaml', 'r') as file:\n",
    "with open('training_pipeline_a_config.yaml', 'r') as file:\n",
    "\n",
    "    cf_a = safe_load(file)\n",
    "\n",
    "# with open('src/training_pipeline_b_config.yaml', 'r') as file:\n",
    "with open('training_pipeline_b_config.yaml', 'r') as file:\n",
    "\n",
    "    cf_b = safe_load(file)\n",
    "\n",
    "\n",
    "# paths to gpt binaries and generated output csv files\n",
    "cf_gpt_model_to_use = cf['gpt_model_to_use']\n",
    "model_path = parent_folder_path / 'data' / cf_a['ingestion']['gpt_model_constants']['model_path']\n",
    "gpt_model_str =  cf_a['ingestion']['gpt_model_constants'][cf_gpt_model_to_use]['gpt_model_str'] #or use gpt4all constants\n",
    "\n",
    "# strings to generate prompts\n",
    "system_string = cf_b['ingestion']['gpt_model_constants']['default_prompt_strings']['system_string']\n",
    "user_string = cf_b['ingestion']['gpt_model_constants']['default_prompt_strings']['user_string']\n",
    "\n",
    "\n",
    "\n",
    "\n",
    "# logging constants and pipeline logger\n",
    "log_level = cf['utils']['log_level']\n",
    "tpb_logger = create_logger(log_level, log_name = 'training_pipeline_b_log')\n",
    "tpb_logger.info('running training_pipeline_b.py')\n",
    "\n",
    "postgres_db = PostgresDatabase(cf_db_p['db_url'])"
   ]
  },
  {
   "cell_type": "code",
   "execution_count": 7,
   "metadata": {},
   "outputs": [
    {
     "name": "stderr",
     "output_type": "stream",
     "text": [
      "[08-02 00:57:44] {PostgresDatabase:264} INFO - Postgres database core_backend_stage_db has been connected \n"
     ]
    },
    {
     "data": {
      "text/plain": [
       "<ingestion.database.PostgresDatabase at 0x156c4ef7190>"
      ]
     },
     "execution_count": 7,
     "metadata": {},
     "output_type": "execute_result"
    }
   ],
   "source": [
    "postgres_db.connect()"
   ]
  },
  {
   "cell_type": "code",
   "execution_count": 34,
   "metadata": {},
   "outputs": [],
   "source": [
    "from psycopg2.sql import SQL, Identifier\n",
    "\n",
    "table_name_forms= \"forms_auto_fill\"\n",
    "table_name_questions = \"questions\"\n",
    "user_id = \"b5f5f813-dafe-4cce-8f15-089bee4efacb\"\n",
    "\n",
    "query = SQL(\"\"\"SELECT \n",
    "question_id, \n",
    "name\n",
    "FROM %s  f\n",
    "LEFT JOIN %s q ON q.id = f.question_id\n",
    "WHERE f.user_id = '%s'\n",
    "\"\"\")\n",
    "\n",
    "\n"
   ]
  },
  {
   "cell_type": "code",
   "execution_count": 35,
   "metadata": {},
   "outputs": [
    {
     "data": {
      "text/plain": [
       "SQL(\"SELECT \\nquestion_id, \\nname\\nFROM %s  f\\nLEFT JOIN %s q ON q.id = f.question_id\\nWHERE f.user_id = '%s'\\n\")"
      ]
     },
     "execution_count": 35,
     "metadata": {},
     "output_type": "execute_result"
    }
   ],
   "source": [
    "query"
   ]
  },
  {
   "cell_type": "code",
   "execution_count": 36,
   "metadata": {},
   "outputs": [
    {
     "ename": "SyntaxError",
     "evalue": "syntax error at or near \"'forms_auto_fill'\"\nLINE 4: FROM 'forms_auto_fill'  f\n             ^\n",
     "output_type": "error",
     "traceback": [
      "\u001b[1;31m---------------------------------------------------------------------------\u001b[0m",
      "\u001b[1;31mSyntaxError\u001b[0m                               Traceback (most recent call last)",
      "Cell \u001b[1;32mIn[36], line 1\u001b[0m\n\u001b[1;32m----> 1\u001b[0m postgres_db\u001b[39m.\u001b[39;49mcursor\u001b[39m.\u001b[39;49mexecute(query, (table_name_forms,  table_name_questions,  user_id))\n\u001b[0;32m      2\u001b[0m results \u001b[39m=\u001b[39m postgres_db\u001b[39m.\u001b[39mcursor\u001b[39m.\u001b[39mfetchall()\n",
      "\u001b[1;31mSyntaxError\u001b[0m: syntax error at or near \"'forms_auto_fill'\"\nLINE 4: FROM 'forms_auto_fill'  f\n             ^\n"
     ]
    }
   ],
   "source": [
    "postgres_db.cursor.execute(query, (table_name_forms,  table_name_questions,  user_id))\n",
    "results = postgres_db.cursor.fetchall()"
   ]
  },
  {
   "cell_type": "code",
   "execution_count": 71,
   "metadata": {},
   "outputs": [],
   "source": [
    "# https://stackoverflow.com/questions/46770201/compose-dynamic-sql-string-with-psycopg2\n",
    "\n",
    "\n",
    "# You can use psycopg2.sql.Identifier to interpolate an identifier to a query, e.g.:\n",
    "\n",
    "# from psycopg2.sql import Identifier, SQL\n",
    "\n",
    "# query = SQL('SELECT * FROM {}.{}').format(*map(Identifier, (schema, table)))\n",
    "# print(query.as_string(conn))\n",
    "# cur.execute(query)\n"
   ]
  },
  {
   "cell_type": "code",
   "execution_count": null,
   "metadata": {},
   "outputs": [],
   "source": []
  },
  {
   "cell_type": "code",
   "execution_count": 66,
   "metadata": {},
   "outputs": [
    {
     "name": "stdout",
     "output_type": "stream",
     "text": [
      "SELECT \n",
      "* \n",
      "FROM \"POSTGRES_DB_NAME_STAGE\".\"questions\"\n",
      "\n"
     ]
    },
    {
     "ename": "InFailedSqlTransaction",
     "evalue": "current transaction is aborted, commands ignored until end of transaction block\n",
     "output_type": "error",
     "traceback": [
      "\u001b[1;31m---------------------------------------------------------------------------\u001b[0m",
      "\u001b[1;31mInFailedSqlTransaction\u001b[0m                    Traceback (most recent call last)",
      "Cell \u001b[1;32mIn[66], line 2\u001b[0m\n\u001b[0;32m      1\u001b[0m \u001b[39mprint\u001b[39m(query\u001b[39m.\u001b[39mas_string(postgres_db\u001b[39m.\u001b[39mconn))\n\u001b[1;32m----> 2\u001b[0m postgres_db\u001b[39m.\u001b[39;49mcursor\u001b[39m.\u001b[39;49mexecute(query)\n\u001b[0;32m      3\u001b[0m results \u001b[39m=\u001b[39m postgres_db\u001b[39m.\u001b[39mcursor\u001b[39m.\u001b[39mfetchall()\n",
      "\u001b[1;31mInFailedSqlTransaction\u001b[0m: current transaction is aborted, commands ignored until end of transaction block\n"
     ]
    }
   ],
   "source": [
    "print(query.as_string(postgres_db.conn))\n",
    "postgres_db.cursor.execute(query)\n",
    "results = postgres_db.cursor.fetchall()"
   ]
  },
  {
   "cell_type": "code",
   "execution_count": 60,
   "metadata": {},
   "outputs": [
    {
     "name": "stdout",
     "output_type": "stream",
     "text": [
      "SELECT \n",
      "question_id, \n",
      "name\n",
      "FROM forms_auto_fill f\n",
      "LEFT JOIN questions q ON q.id = f.question_id\n",
      "WHERE f.user_id = 'b5f5f813-dafe-4cce-8f15-089bee4efacb'\n",
      "\n"
     ]
    }
   ],
   "source": [
    "query = f\"\"\"SELECT \n",
    "question_id, \n",
    "name\n",
    "FROM {table_name_forms} f\n",
    "LEFT JOIN {table_name_questions} q ON q.id = f.question_id\n",
    "WHERE f.user_id = '{user_id}'\n",
    "\"\"\"\n",
    "\n",
    "print(query)\n"
   ]
  },
  {
   "cell_type": "code",
   "execution_count": 2,
   "metadata": {},
   "outputs": [],
   "source": [
    "import os\n",
    "from typing import List\n",
    "from yaml import safe_load\n",
    "from pathlib import Path\n",
    "import numpy as np\n",
    "\n",
    "\n",
    "\n",
    "with open('../src/universal_config.yaml', 'r') as file:\n",
    "    cf = safe_load(file)\n",
    "\n",
    "cf_db = cf['database']['postgres']\n",
    "database = cf_db['app_q_table']"
   ]
  },
  {
   "cell_type": "code",
   "execution_count": 3,
   "metadata": {},
   "outputs": [
    {
     "name": "stdout",
     "output_type": "stream",
     "text": [
      "Hi\n"
     ]
    }
   ],
   "source": [
    "try:\n",
    "    conn = psycopg2.connect(\n",
    "        host=\"localhost\",\n",
    "        dbname=os.getenv('POSTGRES_DB_NAME_STAGE'),\n",
    "        user=os.getenv('POSTGRES_DB_USER_STAGE'),\n",
    "        password=os.getenv('POSTGRES_DB_PASS_STAGE')\n",
    "    )\n",
    "except Exception as err:\n",
    "    print(f\"Connection error {err}\")\n",
    "print(\"Hi\")\n",
    "\n"
   ]
  },
  {
   "cell_type": "markdown",
   "metadata": {},
   "source": []
  }
 ],
 "metadata": {
  "kernelspec": {
   "display_name": "ai-core-RiE3R9BB-py3.11",
   "language": "python",
   "name": "python3"
  },
  "language_info": {
   "codemirror_mode": {
    "name": "ipython",
    "version": 3
   },
   "file_extension": ".py",
   "mimetype": "text/x-python",
   "name": "python",
   "nbconvert_exporter": "python",
   "pygments_lexer": "ipython3",
   "version": "3.11.4"
  },
  "orig_nbformat": 4
 },
 "nbformat": 4,
 "nbformat_minor": 2
}
